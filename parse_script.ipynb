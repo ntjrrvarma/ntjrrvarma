{
  "nbformat": 4,
  "nbformat_minor": 0,
  "metadata": {
    "colab": {
      "name": "parse_script.ipynb",
      "provenance": [],
      "collapsed_sections": [],
      "authorship_tag": "ABX9TyMSWDLh8NrUYUZWvn4Nn/op",
      "include_colab_link": true
    },
    "kernelspec": {
      "name": "python3",
      "display_name": "Python 3"
    },
    "language_info": {
      "name": "python"
    }
  },
  "cells": [
    {
      "cell_type": "markdown",
      "metadata": {
        "id": "view-in-github",
        "colab_type": "text"
      },
      "source": [
        "<a href=\"https://colab.research.google.com/github/ntjrrvarma/ntjrrvarma/blob/main/parse_script.ipynb\" target=\"_parent\"><img src=\"https://colab.research.google.com/assets/colab-badge.svg\" alt=\"Open In Colab\"/></a>"
      ]
    },
    {
      "cell_type": "code",
      "metadata": {
        "colab": {
          "base_uri": "https://localhost:8080/"
        },
        "id": "Kz9XKSAXkaLp",
        "outputId": "f0ab5534-5a3b-479b-9838-de3037df39bd"
      },
      "source": [
        "from google.colab import drive\n",
        "drive.mount('/content/drive/')"
      ],
      "execution_count": 1,
      "outputs": [
        {
          "output_type": "stream",
          "text": [
            "Mounted at /content/drive/\n"
          ],
          "name": "stdout"
        }
      ]
    },
    {
      "cell_type": "code",
      "metadata": {
        "id": "YoiPLVCblCsM"
      },
      "source": [
        "import os\n",
        "os.chdir('/content/drive/My Drive/')"
      ],
      "execution_count": 2,
      "outputs": []
    },
    {
      "cell_type": "code",
      "metadata": {
        "colab": {
          "base_uri": "https://localhost:8080/"
        },
        "id": "_pEIkkxSlJI3",
        "outputId": "f7864963-e789-417f-f60f-967d900f54dc"
      },
      "source": [
        "!ls"
      ],
      "execution_count": 3,
      "outputs": [
        {
          "output_type": "stream",
          "text": [
            " AIBot\t       'Colab Notebooks'     script.txt   Teena\n",
            "'Clicks yest'   parse_script.ipynb   Self\t  Terrace\n"
          ],
          "name": "stdout"
        }
      ]
    },
    {
      "cell_type": "code",
      "metadata": {
        "id": "3jZFBsRWlJPK"
      },
      "source": [
        "import re \n",
        "import pandas as pd\n"
      ],
      "execution_count": 4,
      "outputs": []
    },
    {
      "cell_type": "code",
      "metadata": {
        "id": "o0XdimdbldUx"
      },
      "source": [
        "pattern = r'([a-zA-Z\\s]+): (.+)'"
      ],
      "execution_count": 17,
      "outputs": []
    },
    {
      "cell_type": "code",
      "metadata": {
        "id": "YXymWIvsnKDv"
      },
      "source": [
        "data = {\n",
        "    'name' : [],\n",
        "    'line' : []\n",
        "}"
      ],
      "execution_count": 18,
      "outputs": []
    },
    {
      "cell_type": "code",
      "metadata": {
        "id": "JBkgPlLNniaS"
      },
      "source": [
        "with open('script.txt', 'rt') as file:\n",
        "  for line in file.readlines():\n",
        "    match = re.findall(pattern, line)\n",
        "    if match:\n",
        "      name, line = match[0]\n",
        "      data['name'].append(name)\n",
        "      data['line'].append(line)"
      ],
      "execution_count": 19,
      "outputs": []
    },
    {
      "cell_type": "code",
      "metadata": {
        "id": "ijCV-L_6o4zp"
      },
      "source": [
        "df = pd.DataFrame(data)"
      ],
      "execution_count": 20,
      "outputs": []
    },
    {
      "cell_type": "code",
      "metadata": {
        "colab": {
          "base_uri": "https://localhost:8080/",
          "height": 204
        },
        "id": "vp0k18BVpBjm",
        "outputId": "8dcbbdae-f379-4f5a-91a1-051f5d8ac283"
      },
      "source": [
        "df.head()"
      ],
      "execution_count": 21,
      "outputs": [
        {
          "output_type": "execute_result",
          "data": {
            "text/html": [
              "<div>\n",
              "<style scoped>\n",
              "    .dataframe tbody tr th:only-of-type {\n",
              "        vertical-align: middle;\n",
              "    }\n",
              "\n",
              "    .dataframe tbody tr th {\n",
              "        vertical-align: top;\n",
              "    }\n",
              "\n",
              "    .dataframe thead th {\n",
              "        text-align: right;\n",
              "    }\n",
              "</style>\n",
              "<table border=\"1\" class=\"dataframe\">\n",
              "  <thead>\n",
              "    <tr style=\"text-align: right;\">\n",
              "      <th></th>\n",
              "      <th>name</th>\n",
              "      <th>line</th>\n",
              "    </tr>\n",
              "  </thead>\n",
              "  <tbody>\n",
              "    <tr>\n",
              "      <th>0</th>\n",
              "      <td>Boy</td>\n",
              "      <td>I found some.</td>\n",
              "    </tr>\n",
              "    <tr>\n",
              "      <th>1</th>\n",
              "      <td>Kratos</td>\n",
              "      <td>Get in the boat, boy.</td>\n",
              "    </tr>\n",
              "    <tr>\n",
              "      <th>2</th>\n",
              "      <td>Boy</td>\n",
              "      <td>Still want me to tie it to the boat?</td>\n",
              "    </tr>\n",
              "    <tr>\n",
              "      <th>3</th>\n",
              "      <td>Kratos</td>\n",
              "      <td>That is enough.</td>\n",
              "    </tr>\n",
              "    <tr>\n",
              "      <th>4</th>\n",
              "      <td>Atreus</td>\n",
              "      <td>Father?</td>\n",
              "    </tr>\n",
              "  </tbody>\n",
              "</table>\n",
              "</div>"
            ],
            "text/plain": [
              "     name                                  line\n",
              "0     Boy                         I found some.\n",
              "1  Kratos                 Get in the boat, boy.\n",
              "2     Boy  Still want me to tie it to the boat?\n",
              "3  Kratos                       That is enough.\n",
              "4  Atreus                               Father?"
            ]
          },
          "metadata": {},
          "execution_count": 21
        }
      ]
    },
    {
      "cell_type": "code",
      "metadata": {
        "colab": {
          "base_uri": "https://localhost:8080/"
        },
        "id": "ntrxYu_2qBdg",
        "outputId": "bce59b4f-ae17-4eb3-a3e7-c14c8d76b7ba"
      },
      "source": [
        "len(df)"
      ],
      "execution_count": 22,
      "outputs": [
        {
          "output_type": "execute_result",
          "data": {
            "text/plain": [
              "12839"
            ]
          },
          "metadata": {},
          "execution_count": 22
        }
      ]
    },
    {
      "cell_type": "code",
      "metadata": {
        "id": "f8EvWz5QqKMc"
      },
      "source": [
        "df.to_csv('script.csv', index = False)"
      ],
      "execution_count": 23,
      "outputs": []
    }
  ]
}